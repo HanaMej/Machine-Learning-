{
 "cells": [
  {
   "cell_type": "code",
   "execution_count": null,
   "id": "804f86ca",
   "metadata": {},
   "outputs": [],
   "source": [
    "import pandas as pd\n",
    "import numpy as np\n",
    "import matplotlib.pyplot as plt\n",
    "import seaborn as sns"
   ]
  },
  {
   "cell_type": "code",
   "execution_count": null,
   "id": "328cd83c",
   "metadata": {},
   "outputs": [],
   "source": [
    "#LOAD DATA\n",
    "data = pd.read_csv(\"Booking_data.csv\")\n",
    "data.head()"
   ]
  },
  {
   "cell_type": "code",
   "execution_count": null,
   "id": "69247f2f",
   "metadata": {},
   "outputs": [],
   "source": [
    "data['trip_type'].unique()\n"
   ]
  },
  {
   "cell_type": "markdown",
   "id": "c92ce1ee",
   "metadata": {},
   "source": [
    "<font size=\"6\">Data Preprocessing </font><br>\n",
    "Data Preprocessing consists of: <br>\n",
    " - Checking the shape of the dataset and understanding its dimensions,\n",
    " - Checking if there are null values and remove them if any were found,\n",
    " - Checking of duplicate vlues, and replace them to ensure data integrity,\n",
    " - Gain insights into relationship between different data features, using a heatmap we visualize the correlation map."
   ]
  },
  {
   "cell_type": "code",
   "execution_count": null,
   "id": "30123f86",
   "metadata": {},
   "outputs": [],
   "source": [
    "data.columns"
   ]
  },
  {
   "cell_type": "code",
   "execution_count": null,
   "id": "e3114712",
   "metadata": {},
   "outputs": [],
   "source": [
    "#checking data shape\n",
    "print (f\" The dataset contains {data.shape[0]} rows and {data.shape[1]} columns\")"
   ]
  },
  {
   "cell_type": "code",
   "execution_count": null,
   "id": "84114203",
   "metadata": {},
   "outputs": [],
   "source": [
    "data.info()"
   ]
  },
  {
   "cell_type": "code",
   "execution_count": null,
   "id": "20323e4b",
   "metadata": {},
   "outputs": [],
   "source": [
    "# Get some statisctics about the dataset\n",
    "data.describe()"
   ]
  },
  {
   "cell_type": "code",
   "execution_count": null,
   "id": "7ca29155",
   "metadata": {},
   "outputs": [],
   "source": [
    "#cheking for null value\n",
    "data.isnull().sum()/len(data)*100"
   ]
  },
  {
   "cell_type": "code",
   "execution_count": null,
   "id": "d87dd2d0",
   "metadata": {},
   "outputs": [],
   "source": [
    "#Checking the duplicate value\n",
    "duplicated_values = data.duplicated().sum()\n",
    "print(f'The dataset contains {duplicated_values} duplicate values')"
   ]
  },
  {
   "cell_type": "code",
   "execution_count": null,
   "id": "06ed6d0d",
   "metadata": {},
   "outputs": [],
   "source": [
    "#Remove the duplicated values\n",
    "data = data.drop_duplicates()\n",
    "data.shape"
   ]
  },
  {
   "cell_type": "code",
   "execution_count": null,
   "id": "12a41f4f",
   "metadata": {},
   "outputs": [],
   "source": [
    "#Insights about the relationship between different features\n",
    "plt.figure(figsize =(10,8))\n",
    "sns.heatmap(data.corr(), annot = True, cmap = \"RdYlBu\", fmt='.2f', annot_kws = None,linewidths = 1,)\n",
    "plt.title(\"The correlation between data features\")\n",
    "plt.show()"
   ]
  },
  {
   "cell_type": "markdown",
   "id": "9bf77be7",
   "metadata": {},
   "source": [
    "<font size=\"6\">Data Analysis Exploration  </font><br>"
   ]
  },
  {
   "cell_type": "code",
   "execution_count": null,
   "id": "0a695d1a",
   "metadata": {},
   "outputs": [],
   "source": [
    "#The distribution of purchase lead in the data\n",
    "plt.figure(figsize =(10,8))\n",
    "sns.distplot(data['purchase_lead'],hist=True, bins =50)\n",
    "plt.title(\"The distribution of purchase lead\")\n",
    "plt.show()"
   ]
  },
  {
   "cell_type": "code",
   "execution_count": null,
   "id": "91dd7923",
   "metadata": {},
   "outputs": [],
   "source": [
    "# Create a bar plot to visualize the top 10 Departure countries \n",
    "data['booking_origin'].value_counts().sort_values(ascending=False).nlargest(10).plot(kind='bar',figsize=(12,6),color=['#FE2E9A','#F6CEF5','#F79F81','#B4045F','#BEF781'])\n",
    "plt.title(\"Top 10 Departure Contries\")\n",
    "plt.xlabel(\"Countries\")\n",
    "plt.xticks(rotation=90)\n",
    "plt.ylabel(\"Count of values\")"
   ]
  },
  {
   "cell_type": "code",
   "execution_count": null,
   "id": "e98d5381",
   "metadata": {},
   "outputs": [],
   "source": [
    "# Create a pie chart to visualize the ratio of Complete vs Pending booking\n",
    "data['booking_complete'].value_counts().plot(kind='pie',\n",
    "    explode=[0,0.2],\n",
    "    labels=['Booking Pending',\"Booking Completed\"],\n",
    "    colors=['#01DFD7','#81F7BE'],\n",
    "    autopct='%1.2f%%',\n",
    "    shadow=True)\n",
    "plt.title(\"Booking Ratio\")\n",
    "plt.show()"
   ]
  },
  {
   "cell_type": "code",
   "execution_count": null,
   "id": "686b5680",
   "metadata": {},
   "outputs": [],
   "source": [
    "# what is the most trip type booked by passengers\n",
    "trip_type=['trip_type']\n",
    "for i,col in enumerate(trip_type):\n",
    "    plt.figure(figsize=(10,6))\n",
    "    data[col].value_counts().plot(kind='pie',explode=[0,0.5,0.3],\n",
    "    labels=['RoundTrip',\"OneWay\",'CircleTrip'],\n",
    "    colors=['#FE2E9A','#F79F81','#BEF781'],\n",
    "    autopct='%1.2f%%',\n",
    "    shadow=True)\n",
    "plt.title(\"Trip Type Ratio\")\n",
    "plt.show()"
   ]
  },
  {
   "cell_type": "code",
   "execution_count": null,
   "id": "032f2e49",
   "metadata": {},
   "outputs": [],
   "source": [
    "# Find the average flight duration of the top 20 destination in the bar charts\n",
    "data.groupby('booking_origin')['flight_duration'].mean().sort_values(ascending=False).nlargest(20)\\\n",
    ".plot(kind='barh',figsize=(6,6))\n",
    "plt.title(\"Average flight duration of the top 20 countries\")\n",
    "plt.xlabel(\"Country\")\n",
    "plt.ylabel(\"Average filght duration\")\n",
    "plt.show()"
   ]
  },
  {
   "cell_type": "code",
   "execution_count": null,
   "id": "c0897430",
   "metadata": {},
   "outputs": [],
   "source": [
    "# Create countplot to visualize the relation between the day and the booking ratio\n",
    "plt.figure(figsize=(10,5))\n",
    "sns.countplot(data=data,x='flight_day',hue='booking_complete',palette=['grey','crimson'])\n",
    "plt.title(\"How many tickets booked during the each day\")\n",
    "plt.show()"
   ]
  },
  {
   "cell_type": "code",
   "execution_count": null,
   "id": "3e597ce8",
   "metadata": {},
   "outputs": [],
   "source": [
    "# Visualize the relation between the three flight option and the people who completed the booking \n",
    "df=['wants_extra_baggage', 'wants_preferred_seat',\n",
    "       'wants_in_flight_meals']\n",
    "plt.figure(figsize=(12,5))\n",
    "for i,col in enumerate(df):\n",
    "    plt.subplot(1,3,i+1)\n",
    "    data[col].value_counts().plot(kind='pie',explode=[0,0.2],\n",
    "    labels=['Booking Pending',\"Booking Completed\"],\n",
    "    colors=['#FE2E9A','#BEF781'],\n",
    "    autopct='%1.2f%%',\n",
    "    shadow=True)"
   ]
  },
  {
   "cell_type": "code",
   "execution_count": null,
   "id": "6f9885c6",
   "metadata": {},
   "outputs": [],
   "source": [
    "#Percentage of booking complete throught internet vs Mobile\n",
    "data.groupby('sales_channel')['booking_complete'].sum().plot(kind='pie',\n",
    "explode=[0,0.2],\n",
    "labels =['Booking completed through the internet',\"Booking completed through the Mobile\"],\n",
    "colors=['#8258FA','#FE2E9A'],\n",
    "autopct='%1.2f%%',\n",
    "shadow=True)\n",
    "plt.title(\"Find the how much percentage of booking completed through the channel\")"
   ]
  },
  {
   "cell_type": "code",
   "execution_count": null,
   "id": "fbd8edaa",
   "metadata": {},
   "outputs": [],
   "source": [
    "# Let's Compare How much percentage of the booking complete through mobile and internet\n",
    "data.groupby('trip_type')['booking_complete'].sum().plot(kind='pie',\n",
    "    explode=[0,0.2, 0.4],\n",
    "   labels=['Round Trip',\"One way\", \"Circle Trip\"],\n",
    "    colors=['#8258FA','#2EFE64','#FE2E9A'],\n",
    "    autopct='%1.2f%%',\n",
    "    shadow=True)\n",
    "plt.title(\"Find the most type of trip that was booked\")"
   ]
  },
  {
   "cell_type": "code",
   "execution_count": null,
   "id": "82732db9",
   "metadata": {},
   "outputs": [],
   "source": [
    "# Analyse each colmuns  \n",
    "for i in data.select_dtypes(include='int'):\n",
    "    plt.figure(figsize=(10,8))\n",
    "    sns.countplot(data=data,x=data[i])\n",
    "    plt.xlabel(f'{i}')\n",
    "    plt.ylabel('Count of values')\n",
    "    plt.xticks(rotation=90)\n",
    "    plt.show()"
   ]
  },
  {
   "cell_type": "code",
   "execution_count": null,
   "id": "f0462102",
   "metadata": {},
   "outputs": [],
   "source": [
    "#Answering some questions\n",
    "# Find the most busy day for booking\n",
    "print('The most busy day for booking is:',data['flight_day'].value_counts().idxmax())\n",
    "# Find the leas busy day for boking\n",
    "print('\\nThe least busy day for booking is:',data['flight_day'].value_counts().idxmin())\n",
    "# And the we also do same thing about the booking origin \n",
    "print('\\nThe most booking are coming from: ',data['booking_origin'].value_counts().idxmax())\n",
    "print('\\nThe least booking are coming from:',data['booking_origin'].value_counts().idxmin())"
   ]
  },
  {
   "cell_type": "markdown",
   "id": "b7b14e62",
   "metadata": {},
   "source": [
    "<font size=\"6\">Machine learning Modeling  </font><br>"
   ]
  },
  {
   "cell_type": "code",
   "execution_count": null,
   "id": "d5c317e7",
   "metadata": {},
   "outputs": [],
   "source": [
    "# Import the all required libraries for machine learning modeling\n",
    "from sklearn.model_selection import train_test_split\n",
    "from sklearn.preprocessing import LabelEncoder,StandardScaler\n",
    "from sklearn.linear_model import LogisticRegression\n",
    "from sklearn.metrics import classification_report,confusion_matrix,accuracy_score\n",
    "from sklearn.tree import DecisionTreeClassifier\n",
    "from sklearn.ensemble import RandomForestClassifier\n",
    "from sklearn.svm import SVC\n",
    "from sklearn.neighbors import KNeighborsClassifier\n",
    "from xgboost import XGBClassifier\n",
    "from catboost import CatBoostClassifier"
   ]
  },
  {
   "cell_type": "code",
   "execution_count": null,
   "id": "56f6f76b",
   "metadata": {},
   "outputs": [],
   "source": [
    "# Covert the categorical data into the numerical using the labelencoder\n",
    "for col in data.select_dtypes(include='object').columns:\n",
    "    label_encoder=LabelEncoder()\n",
    "    label_encoder.fit(data[col].unique())\n",
    "    data[col]=label_encoder.transform(data[col])"
   ]
  },
  {
   "cell_type": "code",
   "execution_count": null,
   "id": "28903b1f",
   "metadata": {},
   "outputs": [],
   "source": [
    "data.head()"
   ]
  },
  {
   "cell_type": "code",
   "execution_count": null,
   "id": "b7b0c389",
   "metadata": {},
   "outputs": [],
   "source": [
    "data['trip_type'].unique()"
   ]
  },
  {
   "cell_type": "code",
   "execution_count": null,
   "id": "5e0d59f1",
   "metadata": {},
   "outputs": [],
   "source": [
    "#Divided the data into independent and dependent variables\n",
    "X=data.drop(['booking_complete','purchase_lead','route'],axis=1)#independents variables\n",
    "y=data['booking_complete']#dependent variable\n",
    "# Scalling the data \n",
    "scaler=StandardScaler()\n",
    "X=scaler.fit_transform(X)\n",
    "#Split the data into train and test data\n",
    "X_train,X_test,y_train,y_test=train_test_split(X,y,test_size=0.20,random_state=120)"
   ]
  },
  {
   "cell_type": "code",
   "execution_count": null,
   "id": "7077c198",
   "metadata": {},
   "outputs": [],
   "source": [
    "# Create a function for machine learning model\n",
    "def model_bulding(model,X_train,X_test,y_train,y_test):\n",
    "    print(f'Name of the {model}')\n",
    "    model.fit(X_train,y_train)\n",
    "    y_pred=model.predict(X_test)\n",
    "    score=accuracy_score(y_test,y_pred)\n",
    "    print(f'\\nThe Accuracy_score is {score*100:.2f}')\n",
    "    print(f'\\n{classification_report(y_test,y_pred)}')\n",
    "    print(f'\\n{confusion_matrix(y_test,y_pred)}')\n",
    "    print('__'*20)"
   ]
  },
  {
   "cell_type": "code",
   "execution_count": null,
   "id": "f2d689ea",
   "metadata": {},
   "outputs": [],
   "source": [
    "# Create all model into the dictionary formate to train the data on different algorithms then compare accuracy\n",
    "models={\n",
    "    'logistic':LogisticRegression(),\n",
    "    'decisiontree':DecisionTreeClassifier(),\n",
    "    'radnom':RandomForestClassifier(),\n",
    "    'Kneighbors':KNeighborsClassifier(),\n",
    "    'xGB':XGBClassifier(),\n",
    "    'Cat':CatBoostClassifier(iterations=1)\n",
    "    \n",
    "}"
   ]
  },
  {
   "cell_type": "code",
   "execution_count": null,
   "id": "221ab4e3",
   "metadata": {},
   "outputs": [],
   "source": [
    "# Then iterating through the each model and visualize the classification and confusion reports\n",
    "for i in range(len(models)):\n",
    "    model=list(models.values())[i]\n",
    "    name=list(models.keys())[i]\n",
    "    model_bulding(model,X_train,X_test,y_train,y_test)"
   ]
  },
  {
   "cell_type": "markdown",
   "id": "8d29faf9",
   "metadata": {},
   "source": [
    "<font size=\"6\">Final Thoughts about the project  </font><br>\n",
    "The dataset reveals intriguing findings. A noteworthy observation is that a substantial 91% of individuals chose not to reserve their tickets, whereas a mere 9% exhibited an inclination towards booking. This underscores the urgency of augmenting the quality of supplementary services such as baggage handling, personalized seat selection, and meal choices, given their substantial influence on customers' choices. Additionally, an avenue to explore involves incorporating online advertising to bolster booking rates.\n",
    "\n",
    "Moreover, a striking trend emerges in favor of round trips as the predominant choice. Leveraging this prevailing preference, it is advisable to channel efforts towards optimizing and enhancing the round trip experience. Simultaneously, the prospect of enticing incentives and advertising campaigns can be explored for both one-way and circular trips. By grasping these trends and preferences, our marketing strategies can be tailored to target distinct trip preferences, thus attracting a higher volume of customers to make bookings."
   ]
  },
  {
   "cell_type": "code",
   "execution_count": null,
   "id": "c7228c9d",
   "metadata": {},
   "outputs": [],
   "source": []
  }
 ],
 "metadata": {
  "kernelspec": {
   "display_name": "Python 3 (ipykernel)",
   "language": "python",
   "name": "python3"
  },
  "language_info": {
   "codemirror_mode": {
    "name": "ipython",
    "version": 3
   },
   "file_extension": ".py",
   "mimetype": "text/x-python",
   "name": "python",
   "nbconvert_exporter": "python",
   "pygments_lexer": "ipython3",
   "version": "3.9.7"
  }
 },
 "nbformat": 4,
 "nbformat_minor": 5
}
