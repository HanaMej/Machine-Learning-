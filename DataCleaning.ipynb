{
 "cells": [
  {
   "cell_type": "markdown",
   "metadata": {
    "id": "OD9ina8WZ5zk"
   },
   "source": [
    "<a href=\"https://www.bigdatauniversity.com\"><img src = \"logo2.png\" width = 750, align = \"center\"></a> \n",
    "<h1 align=center><font size = 5>Maîtriser l'art de la Science des Données avec Python</font></h1>"
   ]
  },
  {
   "cell_type": "markdown",
   "metadata": {
    "id": "2CdAwREhZ5zr"
   },
   "source": [
    "# Module 1 Introduction\n",
    "### Bienvenue!\n",
    "Dans cette section, vous apprendrez à aborder l'acquisition de données de différentes manières et à obtenir les informations nécessaires à partir d'un ensemble de données. À la fin de cet atelier, vous réussirez à charger les données dans Jupyter Notebook et à obtenir des informations fondamentales via la bibliothèque Pandas.\n"
   ]
  },
  {
   "cell_type": "markdown",
   "metadata": {
    "id": "zWelO-6jZ5zr"
   },
   "source": [
    "## Table des matières\n",
    "\n",
    "<div class=\"alert alert-block alert-info\" style=\"margin-top: 20px\">\n",
    "<li><a href=\"#ref1\">Acquisition de données</a>\n",
    "<li><a href=\"#ref2\">Aperçu de base de l'ensemble de données</a></li>\n",
    "<p></p>\n",
    "</div>\n",
    "<hr>"
   ]
  },
  {
   "cell_type": "markdown",
   "metadata": {
    "id": "t95kJuAhZ5zs"
   },
   "source": [
    "<a id=\"ref1\"></a>\n",
    "# Acquisition de données \n",
    "Il existe différents formats pour un jeu de données, .csv, .json, .xlsx  etc. L'ensemble de données peut être stocké à différents endroits, sur votre local, votre machine ou parfois en ligne(Bases de données).\n",
    "Dans cette section, vous apprendrez à charger un jeu de données dans notre Jupyter Notebook.\n",
    "Dans notre cas, le jeu de données Automobile est une source en ligne, et il est au format CSV (valeurs séparées par des virgules). Utilisons cet ensemble de données comme exemple pour pratiquer la lecture des données.\n",
    "Source de données: https://archive.ics.uci.edu/ml/machine-learning-databases/autos/imports-85.data\n",
    "Type de données: csv.\n",
    "La bibliothèque Pandas est un outil utile qui nous permet de lire divers ensembles de données dans une trame de données(DATA frame). Notre Jupyter Notebook dispose d'une **bibliothèque Pandas** intégrée, de sorte que tout ce que nous avons à faire est d'importer Pandas sans l'installer.\n"
   ]
  },
  {
   "cell_type": "code",
   "execution_count": null,
   "metadata": {
    "id": "GNmK5sOYZ5zs",
    "scrolled": true
   },
   "outputs": [],
   "source": [
    "# importer pandas library\n",
    "import pandas as pd"
   ]
  },
  {
   "cell_type": "markdown",
   "metadata": {
    "id": "YXUCNltQZ5zt"
   },
   "source": [
    "## Lire des données\n",
    "On utilise la fonction **\"pandas.read_csv()\"**  pour lire un fichie csv. Entre parenthèses, nous mettons le chemin du fichier avec un guillemet, afin que le pandas lit le fichier dans une trame de données à partir de cette adresse. Le chemin d'accès au fichier peut être soit une URL, soit l'adresse de votre fichier local.\n",
    "Étant donné que les données n'incluent pas d'en-têtes, nous pouvons ajouter un argument **\" header = None\"**  à l'intérieur de la methode **\"read_csv()\"**,afin que Pandas ne définit pas automatiquement la première ligne comme en-tête.\n",
    "Vous pouvez également affecter l'ensemble de données à n'importe quelle variable que vous créez."
   ]
  },
  {
   "cell_type": "code",
   "execution_count": null,
   "metadata": {
    "colab": {
     "base_uri": "https://localhost:8080/"
    },
    "executionInfo": {
     "elapsed": 783,
     "status": "ok",
     "timestamp": 1623756170133,
     "user": {
      "displayName": "Hamed Alqahtani",
      "photoUrl": "https://lh3.googleusercontent.com/a-/AOh14GgkA-ynPRbb80mNJ6Cm_HF1f119gRsC7igpHDrOGw=s64",
      "userId": "16956965055008575738"
     },
     "user_tz": -180
    },
    "id": "Hh_iATamZ5zt",
    "outputId": "0ec42e30-52ba-4a6e-9cc7-6f343de159fe",
    "scrolled": true
   },
   "outputs": [],
   "source": [
    "# importer la bibliothèque Pandas\n",
    "import pandas as pd\n",
    "# lire le fichier en ligne par l'URL fournie ci-dessus et l'affecter à la variable \"df\"\n",
    "path=\"https://archive.ics.uci.edu/ml/machine-learning-databases/autos/imports-85.data\"\n",
    "\n",
    "df = pd.read_csv(path,header=None)\n",
    "print(\"Done\")"
   ]
  },
  {
   "cell_type": "markdown",
   "metadata": {
    "id": "hzTxgKobZ5zv"
   },
   "source": [
    "Après avoir lu le jeu de données, nous pouvons utiliser la méthode **`dataframe.head(n)`** pour vérifier les 'n' premières lignes de la trame de données, où n est un entier. Contrairement à **`dataframe.head(n)`**, **`dataframe.tail(n)`** vous montrera les n lignes dernières de la trame de données.\n"
   ]
  },
  {
   "cell_type": "code",
   "execution_count": null,
   "metadata": {
    "colab": {
     "base_uri": "https://localhost:8080/",
     "height": 204
    },
    "executionInfo": {
     "elapsed": 458,
     "status": "ok",
     "timestamp": 1623756174519,
     "user": {
      "displayName": "Hamed Alqahtani",
      "photoUrl": "https://lh3.googleusercontent.com/a-/AOh14GgkA-ynPRbb80mNJ6Cm_HF1f119gRsC7igpHDrOGw=s64",
      "userId": "16956965055008575738"
     },
     "user_tz": -180
    },
    "id": "V-F6kUw4Z5zv",
    "outputId": "ad1e6e6d-8e5b-4081-a3ca-bb91f8f9b237",
    "scrolled": true
   },
   "outputs": [],
   "source": [
    "# afficher les 5 premières lignes en utilisant la méthode dataframe.head()\n",
    "df.head(5)"
   ]
  },
  {
   "cell_type": "markdown",
   "metadata": {
    "id": "tgcXdMuYZ5zw"
   },
   "source": [
    "<div class=\"alert alert-danger alertdanger\" style=\"margin-top: 20px\">\n",
    "<h1> Question #1: </h1>\n",
    "<b>Vérifiez les 10 dernières lignes de la trame de données \"df\":</b>\n",
    "</div>"
   ]
  },
  {
   "cell_type": "code",
   "execution_count": null,
   "metadata": {
    "scrolled": true
   },
   "outputs": [],
   "source": []
  },
  {
   "cell_type": "code",
   "execution_count": null,
   "metadata": {
    "scrolled": true
   },
   "outputs": [],
   "source": [
    "df.shape"
   ]
  },
  {
   "cell_type": "code",
   "execution_count": null,
   "metadata": {
    "colab": {
     "base_uri": "https://localhost:8080/"
    },
    "executionInfo": {
     "elapsed": 419,
     "status": "ok",
     "timestamp": 1623756179613,
     "user": {
      "displayName": "Hamed Alqahtani",
      "photoUrl": "https://lh3.googleusercontent.com/a-/AOh14GgkA-ynPRbb80mNJ6Cm_HF1f119gRsC7igpHDrOGw=s64",
      "userId": "16956965055008575738"
     },
     "user_tz": -180
    },
    "id": "_ogdfe_fZ5zw",
    "outputId": "0322d17c-9bec-4ade-9d74-0160f24dfcc6",
    "scrolled": true
   },
   "outputs": [],
   "source": [
    "df.columns"
   ]
  },
  {
   "cell_type": "markdown",
   "metadata": {
    "id": "Puu4h7EaZ5zx"
   },
   "source": [
    "## Ajouter des en-têtes\n",
    "Jetez un œil à notre ensemble de données ; pandas définit automatiquement l'en-tête par un entier à partir de 0.\n",
    "<div>\n",
    "Pour mieux décrire nos données, nous pouvons introduire un en-tête. Ces informations sont disponibles sur :  https://archive.ics.uci.edu/ml/datasets/Automobile</div>\n",
    "<p></p>\n",
    "<div>Ainsi, nous devons ajouter les en-têtes manuellement.</div>\n",
    "<div>Tout d'abord, nous créons une liste \"en-têtes\" qui inclut tous les noms de colonnes dans l'ordre.</div>\n",
    "<div>Ensuite, on utilise **`dataframe.columns = headers`** pour remplacer les en-têtes par la liste que nous avons créée.</div>"
   ]
  },
  {
   "cell_type": "code",
   "execution_count": null,
   "metadata": {
    "colab": {
     "base_uri": "https://localhost:8080/"
    },
    "executionInfo": {
     "elapsed": 310,
     "status": "ok",
     "timestamp": 1623756188595,
     "user": {
      "displayName": "Hamed Alqahtani",
      "photoUrl": "https://lh3.googleusercontent.com/a-/AOh14GgkA-ynPRbb80mNJ6Cm_HF1f119gRsC7igpHDrOGw=s64",
      "userId": "16956965055008575738"
     },
     "user_tz": -180
    },
    "id": "RtLmTm7SZ5zx",
    "outputId": "87782279-a830-43dd-ee09-38b92496d550",
    "scrolled": true
   },
   "outputs": [],
   "source": [
    "# créer une liste d'en-têtes\n",
    "headers = [\"symboling\",\"normalized-losses\",\"make\",\"fuel-type\",\"aspiration\", \"num-of-doors\",\"body-style\",\n",
    "         \"drive-wheels\",\"engine-location\",\"wheel-base\", \"length\",\"width\",\"height\",\"curb-weight\",\"engine-type\",\n",
    "         \"num-of-cylinders\", \"engine-size\",\"fuel-system\",\"bore\",\"stroke\",\"compression-ratio\",\"horsepower\",\n",
    "         \"peak-rpm\",\"city-mpg\",\"highway-mpg\",\"price\"]\n",
    "headers"
   ]
  },
  {
   "cell_type": "markdown",
   "metadata": {
    "id": "69p1a6YRZ5zy"
   },
   "source": [
    " Nous remplaçons les en-têtes et revérifions notre trame de données :"
   ]
  },
  {
   "cell_type": "code",
   "execution_count": null,
   "metadata": {
    "colab": {
     "base_uri": "https://localhost:8080/",
     "height": 464
    },
    "executionInfo": {
     "elapsed": 306,
     "status": "ok",
     "timestamp": 1623756193399,
     "user": {
      "displayName": "Hamed Alqahtani",
      "photoUrl": "https://lh3.googleusercontent.com/a-/AOh14GgkA-ynPRbb80mNJ6Cm_HF1f119gRsC7igpHDrOGw=s64",
      "userId": "16956965055008575738"
     },
     "user_tz": -180
    },
    "id": "CTxCbCfnZ5zy",
    "outputId": "028b2560-17e3-4fe7-e1d0-5e48ebcb83de",
    "scrolled": true
   },
   "outputs": [],
   "source": [
    "df.columns = headers\n",
    "df.head(5)"
   ]
  },
  {
   "cell_type": "markdown",
   "metadata": {
    "id": "s-3mUzb-Z5z0"
   },
   "source": [
    "Maintenant, nous avons lu avec succès l'ensemble de données brutes et ajouter les en-têtes corrects dans la trame de données."
   ]
  },
  {
   "cell_type": "markdown",
   "metadata": {
    "id": "hp8cKZpXZ5z0"
   },
   "source": [
    " <div class=\"alert alert-danger alertdanger\" style=\"margin-top: 20px\">\n",
    "<h1> Question #2: </h1>\n",
    "<b>Trouver le nom des colonnes du dataframe:</b>\n",
    "</div>"
   ]
  },
  {
   "cell_type": "code",
   "execution_count": null,
   "metadata": {
    "colab": {
     "base_uri": "https://localhost:8080/"
    },
    "executionInfo": {
     "elapsed": 288,
     "status": "ok",
     "timestamp": 1623756213427,
     "user": {
      "displayName": "Hamed Alqahtani",
      "photoUrl": "https://lh3.googleusercontent.com/a-/AOh14GgkA-ynPRbb80mNJ6Cm_HF1f119gRsC7igpHDrOGw=s64",
      "userId": "16956965055008575738"
     },
     "user_tz": -180
    },
    "id": "p9R1gDqxZ5z0",
    "outputId": "bbbe50c7-0b3d-4c40-9ee2-df3c19b7349a",
    "scrolled": true
   },
   "outputs": [],
   "source": []
  },
  {
   "cell_type": "markdown",
   "metadata": {
    "id": "nP3Z1vyvZ5z1"
   },
   "source": [
    "  <div align=\"right\">\n",
    "<a href=\"#q3\" class=\"btn btn-default\" data-toggle=\"collapse\">Cliquez ici pour la solution</a>\n",
    "\n",
    "</div>\n",
    "<div id=\"q3\" class=\"collapse\">\n",
    "```\n",
    "df.columns\n",
    "```\n",
    "</div>\n"
   ]
  },
  {
   "cell_type": "markdown",
   "metadata": {
    "id": "kIJBMFCYZ5z1"
   },
   "source": [
    "## Enregistrer le jeu de données\n",
    "\n",
    "De même, Pandas nous permet d'enregistrer l'ensemble de données au format csv en utilisant la methode **`dataframe.to_csv()`**. Vous pouvez ajouter le chemin et le nom du fichier avec des guillemets entre parenthèses.\n",
    "\n",
    "Par exemple, si vous enregistrez la trame de données \"df\" sous le nom \"automobile.csv\" sur votre ordinateur local, vous pouvez utiliser la syntaxe ci-dessous :\n",
    "~~~~\n",
    "df.to_csv(\"automobile.csv\")\n",
    "~~~~\n",
    "\n"
   ]
  },
  {
   "cell_type": "markdown",
   "metadata": {
    "id": "hPcXfNOgZ5z1"
   },
   "source": [
    "Nous pouvons également lire et enregistrer d'autres formats de fichiers, et nous pouvons utiliser des fonctions similaires pour **`pd.read_csv()`** et **`df.to_csv()`** pour les autres formats de données. Les fonctions sont listées dans le tableau suivant :\n"
   ]
  },
  {
   "cell_type": "markdown",
   "metadata": {
    "id": "eDOr7VuzZ5z2"
   },
   "source": [
    "## Lire/enregistrer d'autres formats de données\n",
    "\n",
    "\n",
    "\n",
    "| Data Formate  | Read           | Save             |\n",
    "| ------------- |:--------------:| ----------------:|\n",
    "| csv           | `pd.read_csv()`  |`df.to_csv()`     |\n",
    "| json          | `pd.read_json()` |`df.to_json()`    |\n",
    "| excel         | `pd.read_excel()`|`df.to_excel()`   |\n",
    "| hdf           | `pd.read_hdf()`  |`df.to_hdf()`     |\n",
    "| sql           | `pd.read_sql()`  |`df.to_sql()`     |\n",
    "| ...           |   ...          |       ...        |"
   ]
  },
  {
   "cell_type": "code",
   "execution_count": null,
   "metadata": {},
   "outputs": [],
   "source": [
    "df.to_csv('automobile.csv')"
   ]
  },
  {
   "cell_type": "markdown",
   "metadata": {
    "id": "W86SuKPVZ5z2"
   },
   "source": [
    "<a id=\"ref2\"></a>\n",
    "# Aperçu de base de l'ensemble de données\n",
    "Après avoir lu les données dans la base de données Pandas, il est temps pour nous d'explorer l'ensemble de données.\n",
    "Il existe plusieurs façons d'obtenir des informations essentielles sur les données pour nous aider à mieux comprendre notre ensemble de données."
   ]
  },
  {
   "cell_type": "markdown",
   "metadata": {
    "id": "WYlswBa_Z5z2"
   },
   "source": [
    "## Types de données\n",
    "Les données ont une variété de types.\n",
    "Les principaux types stockés dans les dataframes Pandas sont `object`, `float`, `int`, `bool`, et `datetime64`. Afin de mieux connaître chaque attribut, il est toujours bon pour nous de connaître le type de données de chaque colonne. Chez Pandas :\n",
    "~~~~\n",
    "dataframe.dtypes\n",
    "~~~~\n",
    "Renvoie une série avec le type de données de chaque colonne."
   ]
  },
  {
   "cell_type": "code",
   "execution_count": null,
   "metadata": {
    "colab": {
     "base_uri": "https://localhost:8080/"
    },
    "executionInfo": {
     "elapsed": 400,
     "status": "ok",
     "timestamp": 1623756225269,
     "user": {
      "displayName": "Hamed Alqahtani",
      "photoUrl": "https://lh3.googleusercontent.com/a-/AOh14GgkA-ynPRbb80mNJ6Cm_HF1f119gRsC7igpHDrOGw=s64",
      "userId": "16956965055008575738"
     },
     "user_tz": -180
    },
    "id": "wDre8uCLZ5z2",
    "outputId": "31b015c0-c766-498c-8579-03da6e2f151b",
    "scrolled": true
   },
   "outputs": [],
   "source": [
    "# vérifier le type de données de la trame de données \"df\" en .dtypes\n",
    "df.dtypes"
   ]
  },
  {
   "cell_type": "markdown",
   "metadata": {
    "id": "UoMUE8wvZ5z3"
   },
   "source": [
    "En conséquence, comme indiqué ci-dessus, il est clair que les types de données \"symboling\" et \"curb-weight\" sont `int64`, \"normalized-losses\" est `object` et \"wheel-base\" est ` float64', etc.\n",
    "Ces types de données peuvent être modifiés, et nous apprendrons comment y parvenir dans un module ultérieur."
   ]
  },
  {
   "cell_type": "markdown",
   "metadata": {
    "id": "DxwU-w8xZ5z3"
   },
   "source": [
    "## Describe\n",
    "Si nous souhaitons obtenir un résumé statistique de chaque colonne, tel que le nombre, la valeur moyenne de la colonne, l'écart type de la colonne, etc., nous utilisons la méthode describe :\n",
    "~~~~\n",
    "dataframe.describe()\n",
    "~~~~\n",
    "Cette méthode fournira diverses statistiques récapitulatives, à l'exclusion des valeurs \"NaN\" (Not a Number) :"
   ]
  },
  {
   "cell_type": "code",
   "execution_count": null,
   "metadata": {
    "colab": {
     "base_uri": "https://localhost:8080/",
     "height": 297
    },
    "executionInfo": {
     "elapsed": 300,
     "status": "ok",
     "timestamp": 1623756230465,
     "user": {
      "displayName": "Hamed Alqahtani",
      "photoUrl": "https://lh3.googleusercontent.com/a-/AOh14GgkA-ynPRbb80mNJ6Cm_HF1f119gRsC7igpHDrOGw=s64",
      "userId": "16956965055008575738"
     },
     "user_tz": -180
    },
    "id": "_4LVgH1xZ5z3",
    "outputId": "70ccefdd-8560-4805-c383-f5d8b1201b0e",
    "scrolled": true
   },
   "outputs": [],
   "source": [
    "df.describe()"
   ]
  },
  {
   "cell_type": "markdown",
   "metadata": {
    "id": "W3ySrKVmZ5z4"
   },
   "source": [
    "Cela montre le résumé statistique de toutes les colonnes de type numérique (int, float).\n",
    "Par exemple, l'attribut \"symboling\" a 205 comptes, la valeur moyenne de cette colonne est 0,83, l'écart type est 1,25, la valeur minimale est -2, le 25e centile est 0, le 50e centile est 1, le 75e centile est 2, et la valeur maximale est 3.\n",
    "\n",
    "Cependant, que se passe-t-il si nous souhaitons également vérifier toutes les colonnes, y compris celles qui sont de type objet ?\n",
    "\n",
    "Vous pouvez ajouter un argument `include = \"all\"` à l'intérieur de la parenthèse. Essayons à nouveau :"
   ]
  },
  {
   "cell_type": "code",
   "execution_count": null,
   "metadata": {
    "colab": {
     "base_uri": "https://localhost:8080/",
     "height": 444
    },
    "executionInfo": {
     "elapsed": 413,
     "status": "ok",
     "timestamp": 1623756241454,
     "user": {
      "displayName": "Hamed Alqahtani",
      "photoUrl": "https://lh3.googleusercontent.com/a-/AOh14GgkA-ynPRbb80mNJ6Cm_HF1f119gRsC7igpHDrOGw=s64",
      "userId": "16956965055008575738"
     },
     "user_tz": -180
    },
    "id": "3Mv8QTW3Z5z4",
    "outputId": "abf22414-c2cb-46a9-9e72-2d5dfd4fa8b9",
    "scrolled": true
   },
   "outputs": [],
   "source": [
    "# décrire toutes les colonnes dans \"df\" \n",
    "df.describe(include = \"all\")"
   ]
  },
  {
   "cell_type": "markdown",
   "metadata": {
    "id": "KTJ98WUdZ5z4"
   },
   "source": [
    "Maintenant, il fournit le résumé statistique de toutes les colonnes, y compris les attributs de type objet.\n",
    "Nous pouvons maintenant voir le nombre de valeurs uniques (ligne du haut) et la fréquence de la valeur du haut dans la troisième ligne.\n",
    "Certaines valeurs du tableau ci-dessus s'affichent sous la forme \"NaN\", car ces chiffres ne sont pas disponibles pour un type de colonne particulier."
   ]
  },
  {
   "cell_type": "markdown",
   "metadata": {
    "id": "wCpHf3X0Z5z4"
   },
   "source": [
    " <div class=\"alert alert-danger alertdanger\" style=\"margin-top: 20px\">\n",
    "<h1> Question #3: </h1>\n",
    "\n",
    "<p>Vous pouvez sélectionner les colonnes d'un bloc de données en indiquant le nom de chaque colonne. Par exemple, vous pouvez sélectionner les trois colonnes comme suit:</p>\n",
    "<p></p>\n",
    "<p>dataframe[[' column 1 ',column 2', 'column 3'] ]</p>\n",
    "<p></p>\n",
    "<p>Où \"column\" est le nom de la colonne, vous pouvez appliquer la méthode \".describe()\" pour obtenir les statistiques de ces colonnes comme suit :</p>\n",
    "<p></p>\n",
    "<p>dataframe[[' column 1 ',column 2', 'column 3'] ].describe() </p>\n",
    "<p></p>\n",
    "\n",
    "Appliquez la méthode à \".describe()\" aux colonnes 'length' et 'compression-ratio'.\n",
    "</div>"
   ]
  },
  {
   "cell_type": "code",
   "execution_count": null,
   "metadata": {},
   "outputs": [],
   "source": []
  },
  {
   "cell_type": "markdown",
   "metadata": {
    "id": "0in5798oZ5z5"
   },
   "source": [
    "  <div align=\"right\">\n",
    "<a href=\"#q4\" class=\"btn btn-default\" data-toggle=\"collapse\">Cliquez ici pour la solution</a>\n",
    "\n",
    "</div>\n",
    "<div id=\"q4\" class=\"collapse\">\n",
    "```\n",
    " df[['length','compression-ratio']].describe()\n",
    "```\n",
    "</div>"
   ]
  },
  {
   "cell_type": "markdown",
   "metadata": {
    "id": "b76iqEJ5Z5z5"
   },
   "source": [
    "## Info\n",
    "Une autre méthode que vous pouvez utiliser pour vérifier votre jeu de données est :\n",
    "~~~~\n",
    "dataframe.info\n",
    "~~~~\n",
    "Il fournit un résumé concis de votre DataFrame."
   ]
  },
  {
   "cell_type": "code",
   "execution_count": null,
   "metadata": {
    "colab": {
     "base_uri": "https://localhost:8080/"
    },
    "executionInfo": {
     "elapsed": 333,
     "status": "ok",
     "timestamp": 1623756251789,
     "user": {
      "displayName": "Hamed Alqahtani",
      "photoUrl": "https://lh3.googleusercontent.com/a-/AOh14GgkA-ynPRbb80mNJ6Cm_HF1f119gRsC7igpHDrOGw=s64",
      "userId": "16956965055008575738"
     },
     "user_tz": -180
    },
    "id": "WQI4tEojZ5z5",
    "outputId": "a4bff6cf-d824-470b-faac-f14f26595024",
    "scrolled": true
   },
   "outputs": [],
   "source": [
    "# regarde les infos de \"df\"\n",
    "df.info"
   ]
  },
  {
   "cell_type": "markdown",
   "metadata": {
    "id": "KmT0c4lfZ5z5"
   },
   "source": [
    "Ici, nous pouvons voir les informations de notre dataframe, avec les 30 premières lignes et les 30 dernières lignes.\n",
    "Il nous montre également que l'ensemble du bloc de données comporte 205 lignes et 26 colonnes au total."
   ]
  },
  {
   "cell_type": "markdown",
   "metadata": {
    "id": "akva30MGZ5z6"
   },
   "source": [
    "vous pouvez également utiliser les informations de méthode comme suit"
   ]
  },
  {
   "cell_type": "code",
   "execution_count": null,
   "metadata": {
    "id": "sy2g0XbeZ5z6",
    "scrolled": true
   },
   "outputs": [],
   "source": [
    "df.info()"
   ]
  },
  {
   "cell_type": "code",
   "execution_count": null,
   "metadata": {
    "id": "Hzep2Z0RZ5z7",
    "scrolled": true
   },
   "outputs": [],
   "source": [
    "# Excellent! Vous venez de terminer le Notebook de l'introduction :) !"
   ]
  },
  {
   "cell_type": "code",
   "execution_count": null,
   "metadata": {},
   "outputs": [],
   "source": []
  }
 ],
 "metadata": {
  "anaconda-cloud": {},
  "colab": {
   "name": "2_review_introduction.ipynb",
   "provenance": []
  },
  "kernelspec": {
   "display_name": "Python 3 (ipykernel)",
   "language": "python",
   "name": "python3"
  },
  "language_info": {
   "codemirror_mode": {
    "name": "ipython",
    "version": 3
   },
   "file_extension": ".py",
   "mimetype": "text/x-python",
   "name": "python",
   "nbconvert_exporter": "python",
   "pygments_lexer": "ipython3",
   "version": "3.9.7"
  }
 },
 "nbformat": 4,
 "nbformat_minor": 1
}
